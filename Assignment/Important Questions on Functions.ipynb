{
 "cells": [
  {
   "cell_type": "markdown",
   "id": "8ee41dc8",
   "metadata": {},
   "source": [
    "### Q1.  Write a function which takes a list and a number as arguments. The function returns true if the number is present in the list otherwise false."
   ]
  },
  {
   "cell_type": "code",
   "execution_count": 16,
   "id": "7bef5378",
   "metadata": {},
   "outputs": [
    {
     "name": "stdout",
     "output_type": "stream",
     "text": [
      "Enter element:22\n",
      "This element is Present in list\n"
     ]
    }
   ],
   "source": [
    "l1=[22,333,44,55,77,333,5,5,5,333]\n",
    "ele=int(input('Enter element:'))\n",
    "i=0\n",
    "while i<len(l1):\n",
    "    if l1[i]==ele:\n",
    "        print('This element is Present in list')\n",
    "        break\n",
    "    i=i+1\n",
    "else:\n",
    "    print('This element is Absent in list')"
   ]
  },
  {
   "cell_type": "markdown",
   "id": "91c7d23a",
   "metadata": {},
   "source": [
    "### Q2.   Write a function which takes a list of numbers as arguments. The function returns a list of same length with Boolean values. True for numbers in the list which are prime False otherwise. (Other helping functions can be created)."
   ]
  },
  {
   "cell_type": "code",
   "execution_count": 17,
   "id": "430a307b",
   "metadata": {},
   "outputs": [
    {
     "name": "stdout",
     "output_type": "stream",
     "text": [
      "Enter the number : 14\n",
      "14 is not a prime number\n"
     ]
    }
   ],
   "source": [
    "# Program to check if a number is prime or not\n",
    "\n",
    "num = int(input('Enter the number : '))\n",
    "\n",
    "# To take input from the user\n",
    "#num = int(input(\"Enter a number: \"))\n",
    "\n",
    "# define a flag variable\n",
    "flag = False\n",
    "\n",
    "# prime numbers are greater than 1\n",
    "if num > 1:\n",
    "    # check for factors\n",
    "    for i in range(2, num):\n",
    "        if (num % i) == 0:\n",
    "            # if factor is found, set flag to True\n",
    "            flag = True\n",
    "            # break out of loop\n",
    "            break\n",
    "\n",
    "# check if flag is True\n",
    "if flag:\n",
    "    print(num, \"is not a prime number\")\n",
    "else:\n",
    "    print(num, \"is a prime number\")"
   ]
  },
  {
   "cell_type": "markdown",
   "id": "c2af70fd",
   "metadata": {},
   "source": [
    "### Q3. Write a function which takes a list and an integer as argument. The function should return True if there is any pair of two consecutive numbers whose sum equals the integer (passed in the argument) otherwise False"
   ]
  },
  {
   "cell_type": "code",
   "execution_count": 19,
   "id": "9ad281f6",
   "metadata": {},
   "outputs": [
    {
     "name": "stdout",
     "output_type": "stream",
     "text": [
      "Array elements are consecutive \n"
     ]
    }
   ],
   "source": [
    "\n",
    "def areConsecutive(arr, n):\n",
    "\n",
    "\tif ( n < 1 ):\n",
    "\t\treturn False\n",
    "\n",
    "\tMin = min(arr)\n",
    "\tMax = max(arr)\n",
    "\t\n",
    "\n",
    "\tif (Max - Min + 1 == n):\n",
    "\t\t\n",
    "\n",
    "\t\tvisited = [False for i in range(n)]\n",
    "\t\n",
    "\t\tfor i in range(n):\n",
    "\t\t\t\n",
    "\t\t\t# If we see an element again,\n",
    "\t\t\t# then return false */\n",
    "\t\t\tif (visited[arr[i] - Min] != False):\n",
    "\t\t\t\treturn False\n",
    "\t\n",
    "\n",
    "\t\t\tvisited[arr[i] - Min] = True\n",
    "\t\n",
    "\n",
    "\t\treturn True\n",
    "\t\n",
    "\treturn False \n",
    "\n",
    "# Driver Code\n",
    "arr = [5, 4, 2, 3, 1, 6]\n",
    "n = len(arr)\n",
    "if(areConsecutive(arr, n) == True):\n",
    "\tprint(\"Array elements are consecutive \")\n",
    "else:\n",
    "\tprint(\"Array elements are not consecutive \")\n",
    "\n",
    "# not getting this Question answer still trying\n"
   ]
  },
  {
   "cell_type": "markdown",
   "id": "8a67fbe3",
   "metadata": {},
   "source": [
    "### Q4.  Given two strings of equal length containing alphabet characters only, write a function which calculates the distance between these two strings. The distance can be calculated in following manner : +2 for same letter at a given position, -1 for a different letter at a given position."
   ]
  },
  {
   "cell_type": "code",
   "execution_count": 27,
   "id": "330e2b82",
   "metadata": {},
   "outputs": [
    {
     "name": "stdout",
     "output_type": "stream",
     "text": [
      "Enter string : amol prasad yogesh sunil anil\n",
      "4\n"
     ]
    }
   ],
   "source": [
    "stat = input('Enter string : ')\n",
    "calc = stat.count(\" \")\n",
    "print(calc)"
   ]
  },
  {
   "cell_type": "code",
   "execution_count": null,
   "id": "866de830",
   "metadata": {},
   "outputs": [],
   "source": []
  }
 ],
 "metadata": {
  "kernelspec": {
   "display_name": "Python 3",
   "language": "python",
   "name": "python3"
  },
  "language_info": {
   "codemirror_mode": {
    "name": "ipython",
    "version": 3
   },
   "file_extension": ".py",
   "mimetype": "text/x-python",
   "name": "python",
   "nbconvert_exporter": "python",
   "pygments_lexer": "ipython3",
   "version": "3.8.8"
  }
 },
 "nbformat": 4,
 "nbformat_minor": 5
}
